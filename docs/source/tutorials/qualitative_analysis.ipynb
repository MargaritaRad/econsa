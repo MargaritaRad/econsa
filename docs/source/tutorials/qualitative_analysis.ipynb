{
 "cells": [
  {
   "cell_type": "markdown",
   "metadata": {},
   "source": [
    "# Qualitative sensitivity analysis"
   ]
  },
  {
   "cell_type": "markdown",
   "metadata": {},
   "source": [
    "We showcase the use of `econsa` for qualitative sensitivity analysis."
   ]
  },
  {
   "cell_type": "code",
   "execution_count": null,
   "metadata": {},
   "outputs": [],
   "source": [
    "from tespy.uncertainty_quantification import linear_function\n",
    "from econsa.morris import elementary_effects\n",
    "import numpy as np\n",
    "\n",
    "# This is an example where we extracted the sampling from the\n",
    "# function to compute the elementary effects.\n",
    "input_parameters = np.random.normal(size=(100, 4))\n",
    "rslt = elementary_effects(linear_function, input_parameters)"
   ]
  },
  {
   "cell_type": "markdown",
   "metadata": {},
   "source": [
    "**TODO**\n",
    "\n",
    "We want to use this notebook to reproduce the example from the Ge & Menendez paper, Test Case 1: linear function, on page 34. This requires to add the linear function to `tespy`, add it to the environment, and install it via `conda`. "
   ]
  }
 ],
 "metadata": {
  "kernelspec": {
   "display_name": "Python 3",
   "language": "python",
   "name": "python3"
  },
  "language_info": {
   "codemirror_mode": {
    "name": "ipython",
    "version": 3
   },
   "file_extension": ".py",
   "mimetype": "text/x-python",
   "name": "python",
   "nbconvert_exporter": "python",
   "pygments_lexer": "ipython3",
   "version": "3.7.7"
  }
 },
 "nbformat": 4,
 "nbformat_minor": 4
}
