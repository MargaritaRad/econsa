{
 "cells": [
  {
   "cell_type": "markdown",
   "metadata": {},
   "source": [
    "# Harris's Economic Order Quantity Model"
   ]
  },
  {
   "cell_type": "markdown",
   "metadata": {},
   "source": [
    "We use this model throughout our documentation so we want to make sure how `econsa` is useful in its analysis. We simply import the core function from `temfpy`."
   ]
  },
  {
   "cell_type": "code",
   "execution_count": 1,
   "metadata": {},
   "outputs": [],
   "source": [
    "import matplotlib.pyplot as plt\n",
    "import seaborn as sns\n",
    "import chaospy as cp\n",
    "import numpy as np"
   ]
  },
  {
   "cell_type": "code",
   "execution_count": 2,
   "metadata": {},
   "outputs": [],
   "source": [
    "from temfpy.uncertainty_quantification import eoq_harris"
   ]
  },
  {
   "cell_type": "markdown",
   "metadata": {},
   "source": [
    "We start with the uncertainty propagation. First, we need to generate the data from uniform distribution. To obtain uncertainty, we use the `sample` function from `chaospy`."
   ]
  },
  {
   "cell_type": "code",
   "execution_count": 3,
   "metadata": {},
   "outputs": [],
   "source": [
    "# Set seed for reproducible results\n",
    "seed = 123\n",
    "\n",
    "# Number of draws\n",
    "n = 10000\n",
    "\n",
    "# Set the means for input variables\n",
    "m_0 = 1230\n",
    "s_0 = 0.0135\n",
    "c_0 = 2.15\n",
    "\n",
    "# Set the range of draws\n",
    "x_min_multiplier = 0.9\n",
    "x_max_multiplier = 1.1\n",
    "\n",
    "r = 0.1"
   ]
  },
  {
   "cell_type": "code",
   "execution_count": 4,
   "metadata": {},
   "outputs": [],
   "source": [
    "# Generate model inputs\n",
    "np.random.seed(seed)\n",
    "m = cp.Uniform(x_min_multiplier * m_0, x_max_multiplier * m_0).sample(n, rule=\"random\")\n",
    "s = cp.Uniform(x_min_multiplier * s_0, x_max_multiplier * s_0).sample(n, rule=\"random\")\n",
    "c = cp.Uniform(x_min_multiplier * c_0, x_max_multiplier * c_0).sample(n, rule=\"random\")\n",
    "\n",
    "x = np.array([m, s, c])"
   ]
  },
  {
   "cell_type": "code",
   "execution_count": 5,
   "metadata": {},
   "outputs": [],
   "source": [
    "# Calculate model output\n",
    "y = eoq_harris(x, r)"
   ]
  },
  {
   "cell_type": "markdown",
   "metadata": {},
   "source": [
    "Now, that we have all the data, we can plot the graphs.\n",
    "\n",
    "First we plot the heoretical densities for $X$. This is "
   ]
  },
  {
   "cell_type": "code",
   "execution_count": 6,
   "metadata": {},
   "outputs": [
    {
     "data": {
      "image/png": "[encoded data removed]",
      "text/plain": [
       "<Figure size 864x288 with 3 Axes>"
      ]
     },
     "metadata": {
      "needs_background": "light"
     },
     "output_type": "display_data"
    }
   ],
   "source": [
    "# Create the plot\n",
    "fig, ax = plt.subplots(1, 3, figsize=(12, 4))\n",
    "\n",
    "# X1\n",
    "h_m = 1 / (x_max_multiplier * m_0 - x_min_multiplier * m_0)\n",
    "ax[0].plot([x_min_multiplier * m_0, x_max_multiplier * m_0], [h_m, h_m], linewidth=2)\n",
    "ax[0].fill(\n",
    "    [\n",
    "        x_min_multiplier * m_0,\n",
    "        x_min_multiplier * m_0,\n",
    "        x_max_multiplier * m_0,\n",
    "        x_max_multiplier * m_0,\n",
    "    ],\n",
    "    [0, h_m, h_m, 0],\n",
    "    alpha=0.5,\n",
    ")\n",
    "ax[0].set_ylim(bottom=0)\n",
    "ax[0].set_xlabel(r\"$X_1$\")\n",
    "\n",
    "# X2\n",
    "h_s = 1 / (x_max_multiplier * s_0 - x_min_multiplier * s_0)\n",
    "ax[1].plot([x_min_multiplier * s_0, x_max_multiplier * s_0], [h_s, h_s], linewidth=2)\n",
    "ax[1].fill(\n",
    "    [\n",
    "        x_min_multiplier * s_0,\n",
    "        x_min_multiplier * s_0,\n",
    "        x_max_multiplier * s_0,\n",
    "        x_max_multiplier * s_0,\n",
    "    ],\n",
    "    [0, h_s, h_s, 0],\n",
    "    alpha=0.5,\n",
    ")\n",
    "ax[1].set_ylim(bottom=0)\n",
    "ax[1].set_xlabel(r\"$X_2$\")\n",
    "\n",
    "# X3\n",
    "h_c = 1 / (x_max_multiplier * c_0 - x_min_multiplier * c_0)\n",
    "ax[2].plot([x_min_multiplier * c_0, x_max_multiplier * c_0], [h_c, h_c], linewidth=2)\n",
    "ax[2].fill(\n",
    "    [\n",
    "        x_min_multiplier * c_0,\n",
    "        x_min_multiplier * c_0,\n",
    "        x_max_multiplier * c_0,\n",
    "        x_max_multiplier * c_0,\n",
    "    ],\n",
    "    [0, h_c, h_c, 0],\n",
    "    alpha=0.5,\n",
    ")\n",
    "ax[2].set_ylim(bottom=0)\n",
    "ax[2].set_xlabel(r\"$X_3$\")\n",
    "\n",
    "# Show all labels\n",
    "fig.tight_layout()\n",
    "\n",
    "# Show the figure\n",
    "plt.show()\n",
    "\n",
    "# Alternatively, save the figure as .png file\n",
    "# fig.savefig(\"fig-borgonovo-cdf-x\")"
   ]
  },
  {
   "cell_type": "markdown",
   "metadata": {},
   "source": [
    "And plot the empirical density for $y$:"
   ]
  },
  {
   "cell_type": "code",
   "execution_count": 7,
   "metadata": {},
   "outputs": [
    {
     "data": {
      "image/png": "[encoded data removed]",
      "text/plain": [
       "<Figure size 432x288 with 1 Axes>"
      ]
     },
     "metadata": {
      "needs_background": "light"
     },
     "output_type": "display_data"
    }
   ],
   "source": [
    "fig, ax = plt.subplots()\n",
    "sns.distplot(y)\n",
    "ax.set_xlabel(r\"$y$\")\n",
    "\n",
    "# Show the figure\n",
    "plt.show()\n",
    "\n",
    "# Alternatively, save the figure as .png file\n",
    "# fig.savefig(\"fig-borgonovo-cdf-y\")"
   ]
  },
  {
   "cell_type": "markdown",
   "metadata": {},
   "source": [
    "## Resources"
   ]
  },
  {
   "cell_type": "markdown",
   "metadata": {},
   "source": [
    "* Harris, F. W. (1990). How many parts to make at once. Operations Research, 38(6), 947–950. https://doi.org/10.1287/opre.38.6.947\n",
    "* Borgonovo, E., & Plischke, E. (2016). Sensitivity analysis: A review of recent advances. European Journal of Operational Research, 248(3), 869–887. https://doi.org/10.1016/j.ejor.2015.06.032"
   ]
  }
 ],
 "metadata": {
  "kernelspec": {
   "display_name": "Python 3",
   "language": "python",
   "name": "python3"
  },
  "language_info": {
   "codemirror_mode": {
    "name": "ipython",
    "version": 3
   },
   "file_extension": ".py",
   "mimetype": "text/x-python",
   "name": "python",
   "nbconvert_exporter": "python",
   "pygments_lexer": "ipython3",
   "version": "3.7.6"
  }
 },
 "nbformat": 4,
 "nbformat_minor": 4
}
