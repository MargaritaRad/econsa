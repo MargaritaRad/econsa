{
 "cells": [
  {
   "cell_type": "code",
   "execution_count": 1,
   "metadata": {},
   "outputs": [
    {
     "name": "stderr",
     "output_type": "stream",
     "text": [
      "/home/janos/anaconda3/envs/morris/lib/python3.7/site-packages/statsmodels/tools/_testing.py:19: FutureWarning: pandas.util.testing is deprecated. Use the functions in the public API at pandas.testing instead.\n",
      "  import pandas.util.testing as tm\n"
     ]
    }
   ],
   "source": [
    "import pandas as pd\n",
    "import numpy as np\n",
    "import seaborn as sns\n",
    "sns.set_style('white')\n",
    "import matplotlib.pyplot as plt"
   ]
  },
  {
   "cell_type": "markdown",
   "metadata": {},
   "source": [
    "## Comparison with Paper and Tobias Stenzel"
   ]
  },
  {
   "cell_type": "code",
   "execution_count": 11,
   "metadata": {},
   "outputs": [
    {
     "data": {
      "text/html": [
       "<div>\n",
       "<style scoped>\n",
       "    .dataframe tbody tr th:only-of-type {\n",
       "        vertical-align: middle;\n",
       "    }\n",
       "\n",
       "    .dataframe tbody tr th {\n",
       "        vertical-align: top;\n",
       "    }\n",
       "\n",
       "    .dataframe thead th {\n",
       "        text-align: right;\n",
       "    }\n",
       "</style>\n",
       "<table border=\"1\" class=\"dataframe\">\n",
       "  <thead>\n",
       "    <tr style=\"text-align: right;\">\n",
       "      <th></th>\n",
       "      <th>abs_ee_ind</th>\n",
       "      <th>abs_ee_full</th>\n",
       "      <th>sd_ee_ind</th>\n",
       "      <th>sd_ee_full</th>\n",
       "    </tr>\n",
       "  </thead>\n",
       "  <tbody>\n",
       "    <tr>\n",
       "      <th>x1</th>\n",
       "      <td>0.57</td>\n",
       "      <td>6.84</td>\n",
       "      <td>0.10</td>\n",
       "      <td>1.15</td>\n",
       "    </tr>\n",
       "    <tr>\n",
       "      <th>x2</th>\n",
       "      <td>0.85</td>\n",
       "      <td>7.77</td>\n",
       "      <td>0.41</td>\n",
       "      <td>3.68</td>\n",
       "    </tr>\n",
       "    <tr>\n",
       "      <th>x3</th>\n",
       "      <td>1.31</td>\n",
       "      <td>4.19</td>\n",
       "      <td>0.22</td>\n",
       "      <td>0.70</td>\n",
       "    </tr>\n",
       "  </tbody>\n",
       "</table>\n",
       "</div>"
      ],
      "text/plain": [
       "    abs_ee_ind  abs_ee_full  sd_ee_ind  sd_ee_full\n",
       "x1        0.57         6.84       0.10        1.15\n",
       "x2        0.85         7.77       0.41        3.68\n",
       "x3        1.31         4.19       0.22        0.70"
      ]
     },
     "execution_count": 11,
     "metadata": {},
     "output_type": "execute_result"
    }
   ],
   "source": [
    "res_ts = pd.read_pickle(\"../thesis-projects-tostenzel/scripts/example_1_radial.pickle\")\n",
    "res_ts = res_ts[[\"abs_ee_ind\", \"abs_ee_full\", \"sd_ee_ind\", \"sd_ee_full\"]].round(2)\n",
    "res_ts"
   ]
  },
  {
   "cell_type": "code",
   "execution_count": 13,
   "metadata": {},
   "outputs": [
    {
     "data": {
      "text/html": [
       "<div>\n",
       "<style scoped>\n",
       "    .dataframe tbody tr th:only-of-type {\n",
       "        vertical-align: middle;\n",
       "    }\n",
       "\n",
       "    .dataframe tbody tr th {\n",
       "        vertical-align: top;\n",
       "    }\n",
       "\n",
       "    .dataframe thead th {\n",
       "        text-align: right;\n",
       "    }\n",
       "</style>\n",
       "<table border=\"1\" class=\"dataframe\">\n",
       "  <thead>\n",
       "    <tr style=\"text-align: right;\">\n",
       "      <th></th>\n",
       "      <th>abs_ee_ind</th>\n",
       "      <th>abs_ee_full</th>\n",
       "      <th>sd_ee_ind</th>\n",
       "      <th>sd_ee_full</th>\n",
       "    </tr>\n",
       "  </thead>\n",
       "  <tbody>\n",
       "    <tr>\n",
       "      <th>x1</th>\n",
       "      <td>0.57</td>\n",
       "      <td>6.84</td>\n",
       "      <td>0.10</td>\n",
       "      <td>1.15</td>\n",
       "    </tr>\n",
       "    <tr>\n",
       "      <th>x2</th>\n",
       "      <td>0.85</td>\n",
       "      <td>7.77</td>\n",
       "      <td>0.41</td>\n",
       "      <td>3.68</td>\n",
       "    </tr>\n",
       "    <tr>\n",
       "      <th>x3</th>\n",
       "      <td>1.31</td>\n",
       "      <td>4.19</td>\n",
       "      <td>0.22</td>\n",
       "      <td>0.70</td>\n",
       "    </tr>\n",
       "  </tbody>\n",
       "</table>\n",
       "</div>"
      ],
      "text/plain": [
       "    abs_ee_ind  abs_ee_full  sd_ee_ind  sd_ee_full\n",
       "x1        0.57         6.84       0.10        1.15\n",
       "x2        0.85         7.77       0.41        3.68\n",
       "x3        1.31         4.19       0.22        0.70"
      ]
     },
     "execution_count": 13,
     "metadata": {},
     "output_type": "execute_result"
    }
   ],
   "source": [
    "res_ts = pd.read_pickle(\"../thesis-projects-tostenzel/scripts/example_1_radial.pickle\")\n",
    "res_ts = res_ts[[\"abs_ee_ind\", \"abs_ee_full\", \"sd_ee_ind\", \"sd_ee_full\"]].round(2)\n",
    "res_ts"
   ]
  },
  {
   "cell_type": "code",
   "execution_count": 6,
   "metadata": {},
   "outputs": [
    {
     "data": {
      "text/html": [
       "<div>\n",
       "<style scoped>\n",
       "    .dataframe tbody tr th:only-of-type {\n",
       "        vertical-align: middle;\n",
       "    }\n",
       "\n",
       "    .dataframe tbody tr th {\n",
       "        vertical-align: top;\n",
       "    }\n",
       "\n",
       "    .dataframe thead th {\n",
       "        text-align: right;\n",
       "    }\n",
       "</style>\n",
       "<table border=\"1\" class=\"dataframe\">\n",
       "  <thead>\n",
       "    <tr style=\"text-align: right;\">\n",
       "      <th></th>\n",
       "      <th>abs_ee_ind</th>\n",
       "      <th>abs_ee_full</th>\n",
       "      <th>sd_ee_ind</th>\n",
       "      <th>sd_ee_full</th>\n",
       "    </tr>\n",
       "  </thead>\n",
       "  <tbody>\n",
       "    <tr>\n",
       "      <th>x1</th>\n",
       "      <td>0.60</td>\n",
       "      <td>7.50</td>\n",
       "      <td>0.3</td>\n",
       "      <td>3.0</td>\n",
       "    </tr>\n",
       "    <tr>\n",
       "      <th>x2</th>\n",
       "      <td>0.75</td>\n",
       "      <td>6.75</td>\n",
       "      <td>0.3</td>\n",
       "      <td>2.6</td>\n",
       "    </tr>\n",
       "    <tr>\n",
       "      <th>x3</th>\n",
       "      <td>1.50</td>\n",
       "      <td>4.60</td>\n",
       "      <td>0.8</td>\n",
       "      <td>2.3</td>\n",
       "    </tr>\n",
       "  </tbody>\n",
       "</table>\n",
       "</div>"
      ],
      "text/plain": [
       "    abs_ee_ind  abs_ee_full  sd_ee_ind  sd_ee_full\n",
       "x1        0.60         7.50        0.3         3.0\n",
       "x2        0.75         6.75        0.3         2.6\n",
       "x3        1.50         4.60        0.8         2.3"
      ]
     },
     "execution_count": 6,
     "metadata": {},
     "output_type": "execute_result"
    }
   ],
   "source": [
    "correct = [\n",
    "    [0.6, 7.5, 0.3, 3],\n",
    "    [0.75, 6.75, 0.3, 2.6 ],\n",
    "    [1.5, 4.6, 0.8, 2.3],\n",
    "]\n",
    "correct = pd.DataFrame(data=correct, columns=res_ts.columns, index=res_ts.index)\n",
    "correct"
   ]
  },
  {
   "cell_type": "code",
   "execution_count": 41,
   "metadata": {},
   "outputs": [
    {
     "data": {
      "text/html": [
       "<div>\n",
       "<style scoped>\n",
       "    .dataframe tbody tr th:only-of-type {\n",
       "        vertical-align: middle;\n",
       "    }\n",
       "\n",
       "    .dataframe tbody tr th {\n",
       "        vertical-align: top;\n",
       "    }\n",
       "\n",
       "    .dataframe thead th {\n",
       "        text-align: right;\n",
       "    }\n",
       "</style>\n",
       "<table border=\"1\" class=\"dataframe\">\n",
       "  <thead>\n",
       "    <tr style=\"text-align: right;\">\n",
       "      <th></th>\n",
       "      <th>abs_ee_ind</th>\n",
       "      <th>abs_ee_full</th>\n",
       "      <th>sd_ee_ind</th>\n",
       "      <th>sd_ee_full</th>\n",
       "    </tr>\n",
       "  </thead>\n",
       "  <tbody>\n",
       "    <tr>\n",
       "      <th>x1</th>\n",
       "      <td>0.57</td>\n",
       "      <td>6.84</td>\n",
       "      <td>0.10</td>\n",
       "      <td>1.15</td>\n",
       "    </tr>\n",
       "    <tr>\n",
       "      <th>x2</th>\n",
       "      <td>0.85</td>\n",
       "      <td>7.77</td>\n",
       "      <td>0.41</td>\n",
       "      <td>3.68</td>\n",
       "    </tr>\n",
       "    <tr>\n",
       "      <th>x3</th>\n",
       "      <td>1.31</td>\n",
       "      <td>4.19</td>\n",
       "      <td>0.22</td>\n",
       "      <td>0.70</td>\n",
       "    </tr>\n",
       "  </tbody>\n",
       "</table>\n",
       "</div>"
      ],
      "text/plain": [
       "    abs_ee_ind  abs_ee_full  sd_ee_ind  sd_ee_full\n",
       "x1        0.57         6.84       0.10        1.15\n",
       "x2        0.85         7.77       0.41        3.68\n",
       "x3        1.31         4.19       0.22        0.70"
      ]
     },
     "execution_count": 41,
     "metadata": {},
     "output_type": "execute_result"
    }
   ],
   "source": [
    "our_res = pd.read_pickle(\"our_example_1_radial.pickle\").round(2)\n",
    "our_res = our_res.rename(columns={\n",
    "    \"mu_ind\": \"abs_ee_ind\", \"sigma_ind\": \"sd_ee_ind\",\n",
    "    \"mu_corr\": \"abs_ee_full\", \"sigma_corr\": \"sd_ee_full\"\n",
    "})\n",
    "our_res"
   ]
  },
  {
   "cell_type": "code",
   "execution_count": 39,
   "metadata": {},
   "outputs": [
    {
     "data": {
      "text/html": [
       "<div>\n",
       "<style scoped>\n",
       "    .dataframe tbody tr th:only-of-type {\n",
       "        vertical-align: middle;\n",
       "    }\n",
       "\n",
       "    .dataframe tbody tr th {\n",
       "        vertical-align: top;\n",
       "    }\n",
       "\n",
       "    .dataframe thead th {\n",
       "        text-align: right;\n",
       "    }\n",
       "</style>\n",
       "<table border=\"1\" class=\"dataframe\">\n",
       "  <thead>\n",
       "    <tr style=\"text-align: right;\">\n",
       "      <th></th>\n",
       "      <th>abs_ee_ind</th>\n",
       "      <th>abs_ee_full</th>\n",
       "      <th>sd_ee_ind</th>\n",
       "      <th>sd_ee_full</th>\n",
       "    </tr>\n",
       "  </thead>\n",
       "  <tbody>\n",
       "    <tr>\n",
       "      <th>x1</th>\n",
       "      <td>0.69</td>\n",
       "      <td>8.29</td>\n",
       "      <td>0.41</td>\n",
       "      <td>4.86</td>\n",
       "    </tr>\n",
       "    <tr>\n",
       "      <th>x2</th>\n",
       "      <td>0.75</td>\n",
       "      <td>6.84</td>\n",
       "      <td>0.52</td>\n",
       "      <td>4.69</td>\n",
       "    </tr>\n",
       "    <tr>\n",
       "      <th>x3</th>\n",
       "      <td>1.59</td>\n",
       "      <td>5.08</td>\n",
       "      <td>1.03</td>\n",
       "      <td>3.27</td>\n",
       "    </tr>\n",
       "  </tbody>\n",
       "</table>\n",
       "</div>"
      ],
      "text/plain": [
       "    abs_ee_ind  abs_ee_full  sd_ee_ind  sd_ee_full\n",
       "x1        0.69         8.29       0.41        4.86\n",
       "x2        0.75         6.84       0.52        4.69\n",
       "x3        1.59         5.08       1.03        3.27"
      ]
     },
     "execution_count": 39,
     "metadata": {},
     "output_type": "execute_result"
    }
   ],
   "source": [
    "our_res = pd.read_pickle(\"our_example_1_radial.pickle\").round(2)\n",
    "our_res = our_res.rename(columns={\n",
    "    \"mu_ind\": \"abs_ee_ind\", \"sigma_ind\": \"sd_ee_ind\",\n",
    "    \"mu_corr\": \"abs_ee_full\", \"sigma_corr\": \"sd_ee_full\"\n",
    "})\n",
    "our_res"
   ]
  },
  {
   "cell_type": "code",
   "execution_count": 46,
   "metadata": {},
   "outputs": [],
   "source": [
    "remote = pd.read_pickle(\"bld/indices/kw_indices_backup.pickle\")\n",
    "local = pd.read_pickle(\"bld/indices/kw_indices.pickle\")\n",
    "from pandas.testing import assert_frame_equal"
   ]
  },
  {
   "cell_type": "code",
   "execution_count": 47,
   "metadata": {},
   "outputs": [],
   "source": [
    "assert_frame_equal(remote, local)"
   ]
  },
  {
   "cell_type": "code",
   "execution_count": 50,
   "metadata": {},
   "outputs": [
    {
     "data": {
      "text/plain": [
       "1.4142135623730951"
      ]
     },
     "execution_count": 50,
     "metadata": {},
     "output_type": "execute_result"
    }
   ],
   "source": [
    "a = np.arange(5)\n",
    "a.std()"
   ]
  },
  {
   "cell_type": "code",
   "execution_count": 52,
   "metadata": {},
   "outputs": [
    {
     "data": {
      "text/plain": [
       "2.449489742783178"
      ]
     },
     "execution_count": 52,
     "metadata": {},
     "output_type": "execute_result"
    }
   ],
   "source": [
    "np.sqrt((a ** 2).sum() / 5)"
   ]
  },
  {
   "cell_type": "code",
   "execution_count": null,
   "metadata": {},
   "outputs": [],
   "source": [
    "def _cum_sd(arr)"
   ]
  }
 ],
 "metadata": {
  "kernelspec": {
   "display_name": "Python 3",
   "language": "python",
   "name": "python3"
  },
  "language_info": {
   "codemirror_mode": {
    "name": "ipython",
    "version": 3
   },
   "file_extension": ".py",
   "mimetype": "text/x-python",
   "name": "python",
   "nbconvert_exporter": "python",
   "pygments_lexer": "ipython3",
   "version": "3.7.4"
  }
 },
 "nbformat": 4,
 "nbformat_minor": 2
}
